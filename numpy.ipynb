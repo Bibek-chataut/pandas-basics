{
 "cells": [
  {
   "cell_type": "markdown",
   "id": "bc10d20e",
   "metadata": {},
   "source": [
    "## Numpy"
   ]
  },
  {
   "cell_type": "markdown",
   "id": "fd8321aa",
   "metadata": {},
   "source": [
    "# NumPy Basics: Introduction, Arrays, and Key Concepts\n",
    "\n",
    "Welcome to the **NumPy** tutorial! This notebook will guide you through the basics of NumPy, why it's useful, and introduce you to key functionalities, including arrays, linear algebra, broadcasting, and random number generation.\n",
    "\n",
    "## Table of Contents:\n",
    "1. Introduction to NumPy\n",
    "2. Why Use NumPy?\n",
    "3. Understanding NumPy Arrays\n",
    "4. Arrays vs Python Lists\n",
    "5. Common Array Functions\n",
    "6. Linear Algebra with NumPy\n",
    "7. Broadcasting\n",
    "8. Random Number Generation\n",
    "\n",
    "---\n",
    "\n",
    "## 1. Introduction to NumPy\n",
    "\n",
    "**NumPy** stands for **Numerical Python**. It's a powerful library for numerical computations and data manipulation. NumPy provides a high-performance multidimensional array object and tools to work with these arrays.\n",
    "\n",
    "**Numpy** is the core library for **scientific computing** in Python. It provides a high-performance **multidimensional** array object, and tools for working with these arrays\n",
    "\n",
    "- It is fast, efficient, and a core library for scientific computing with Python.\n",
    "- It supports large, multi-dimensional arrays and matrices, along with a collection of mathematical functions to operate on these arrays.\n",
    "\n",
    "Let's start by importing NumPy:\n"
   ]
  },
  {
   "cell_type": "code",
   "execution_count": 1,
   "id": "054cecb2",
   "metadata": {},
   "outputs": [],
   "source": [
    "import numpy as np"
   ]
  },
  {
   "cell_type": "code",
   "execution_count": null,
   "id": "ead90898",
   "metadata": {},
   "outputs": [],
   "source": []
  },
  {
   "cell_type": "markdown",
   "id": "4f821e7a",
   "metadata": {},
   "source": [
    "## Why Numpy\n",
    "\n",
    "### NumPy is preferred for the following reasons:\n",
    "\n",
    "- Speed: Operations on NumPy arrays are much faster than equivalent Python list operations.\n",
    "- Convenience: NumPy provides many useful functions that make working with data much simpler.\n",
    "- Memory Efficiency: NumPy arrays are more memory efficient than lists.\n",
    "- Interoperability: NumPy arrays are interoperable with other libraries like pandas, matplotlib, and scipy."
   ]
  },
  {
   "cell_type": "code",
   "execution_count": null,
   "id": "19a25218",
   "metadata": {},
   "outputs": [],
   "source": []
  },
  {
   "cell_type": "markdown",
   "id": "ee30663c",
   "metadata": {},
   "source": [
    "## Arrays vs Python Lists\n",
    "\n",
    "### **How is a NumPy array different from a Python list?**\n",
    "\n",
    "- Homogeneity: NumPy arrays store elements of the same data type, while lists can store different types of elements.\n",
    "\n",
    "- Performance: NumPy operations are more efficient than Python lists due to optimization in underlying C code\n",
    "- Functionality: NumPy provides a vast collection of functions for performing mathematical and logical operations on arrays\n"
   ]
  },
  {
   "cell_type": "code",
   "execution_count": 2,
   "id": "ca6148fa",
   "metadata": {},
   "outputs": [],
   "source": [
    "# Python List\n",
    "list_example = [1, \"hello\", 2, 3, 4, 5]\n",
    "\n",
    "# NumPy Array\n",
    "array_example = np.array([1, 2, 3, 4, 5], dtype=np.int32)"
   ]
  },
  {
   "cell_type": "code",
   "execution_count": 3,
   "id": "a919468a",
   "metadata": {},
   "outputs": [
    {
     "data": {
      "text/plain": [
       "array([1, 2, 3, 4, 5], dtype=int32)"
      ]
     },
     "execution_count": 3,
     "metadata": {},
     "output_type": "execute_result"
    }
   ],
   "source": [
    "array_example"
   ]
  },
  {
   "cell_type": "code",
   "execution_count": 4,
   "id": "f5b59db6",
   "metadata": {},
   "outputs": [
    {
     "ename": "ValueError",
     "evalue": "invalid literal for int() with base 10: 'hello'",
     "output_type": "error",
     "traceback": [
      "\u001b[1;31m------------------------------------------------------------------------\u001b[0m",
      "\u001b[1;31mValueError\u001b[0m                             Traceback (most recent call last)",
      "Cell \u001b[1;32mIn[4], line 1\u001b[0m\n\u001b[1;32m----> 1\u001b[0m array_example \u001b[38;5;241m=\u001b[39m \u001b[43mnp\u001b[49m\u001b[38;5;241;43m.\u001b[39;49m\u001b[43marray\u001b[49m\u001b[43m(\u001b[49m\u001b[43m[\u001b[49m\u001b[38;5;241;43m1\u001b[39;49m\u001b[43m,\u001b[49m\u001b[43m \u001b[49m\u001b[38;5;124;43m\"\u001b[39;49m\u001b[38;5;124;43mhello\u001b[39;49m\u001b[38;5;124;43m\"\u001b[39;49m\u001b[43m,\u001b[49m\u001b[43m \u001b[49m\u001b[38;5;241;43m2\u001b[39;49m\u001b[43m,\u001b[49m\u001b[43m \u001b[49m\u001b[38;5;241;43m3\u001b[39;49m\u001b[43m,\u001b[49m\u001b[43m \u001b[49m\u001b[38;5;241;43m4\u001b[39;49m\u001b[43m,\u001b[49m\u001b[43m \u001b[49m\u001b[38;5;241;43m5\u001b[39;49m\u001b[43m]\u001b[49m\u001b[43m,\u001b[49m\u001b[43m \u001b[49m\u001b[43mdtype\u001b[49m\u001b[38;5;241;43m=\u001b[39;49m\u001b[43mnp\u001b[49m\u001b[38;5;241;43m.\u001b[39;49m\u001b[43mint32\u001b[49m\u001b[43m)\u001b[49m\n",
      "\u001b[1;31mValueError\u001b[0m: invalid literal for int() with base 10: 'hello'"
     ]
    }
   ],
   "source": [
    "array_example = np.array([1, \"hello\", 2, 3, 4, 5], dtype=np.int32)"
   ]
  },
  {
   "cell_type": "code",
   "execution_count": 8,
   "id": "5ea346c2",
   "metadata": {},
   "outputs": [
    {
     "data": {
      "text/plain": [
       "array(['1', 'hello', '2', '3', '4', '5'], dtype='<U21')"
      ]
     },
     "execution_count": 8,
     "metadata": {},
     "output_type": "execute_result"
    }
   ],
   "source": [
    "array_example"
   ]
  },
  {
   "cell_type": "code",
   "execution_count": null,
   "id": "27afba68",
   "metadata": {},
   "outputs": [],
   "source": []
  },
  {
   "cell_type": "markdown",
   "id": "a49b7f19",
   "metadata": {},
   "source": [
    "## Arrays and array construction\n",
    "\n",
    "A numpy array is a **grid of values**, all of the **same type**, and is indexed by a **tuple of nonnegative integers**. The number of dimensions is the rank of the array; the shape of an array is a tuple of integers giving the size of the array along each dimension.\n",
    "\n",
    "We can create a `numpy` array by passing a Python list to `np.array()`."
   ]
  },
  {
   "cell_type": "code",
   "execution_count": 18,
   "id": "da5d2426",
   "metadata": {},
   "outputs": [],
   "source": [
    "a = np.array([1, 2, 3])  # Create a rank 1 array"
   ]
  },
  {
   "cell_type": "markdown",
   "id": "8b5fff63",
   "metadata": {},
   "source": [
    "This creates the array we can see on the right here:\n",
    "\n",
    "![](http://jalammar.github.io/images/numpy/create-numpy-array-1.png)"
   ]
  },
  {
   "cell_type": "code",
   "execution_count": 21,
   "id": "6a3a1c7a",
   "metadata": {},
   "outputs": [
    {
     "name": "stdout",
     "output_type": "stream",
     "text": [
      "<class 'numpy.ndarray'> \n",
      " Shape:  (3,) \n",
      " Indexed elements:  5 2 3\n",
      "[5 2 3]\n"
     ]
    }
   ],
   "source": [
    "print(type(a), \"\\n\", \"Shape: \", a.shape, \"\\n\", \"Indexed elements: \", a[0], a[1], a[2])\n",
    "a[0] = 5                 # Change an element of the array\n",
    "print(a)"
   ]
  },
  {
   "cell_type": "code",
   "execution_count": null,
   "id": "91182e99-06c3-4d91-959c-46bfd4461039",
   "metadata": {},
   "outputs": [],
   "source": []
  },
  {
   "cell_type": "markdown",
   "id": "f33c0e3a",
   "metadata": {},
   "source": [
    "## More Dimensions in Array\n",
    "\n",
    "To create a `numpy` array with more dimensions, we can pass nested lists, like this:\n",
    "\n",
    "![](http://jalammar.github.io/images/numpy/numpy-array-create-2d.png)\n",
    "\n",
    "![](http://jalammar.github.io/images/numpy/numpy-3d-array.png)"
   ]
  },
  {
   "cell_type": "code",
   "execution_count": 27,
   "id": "3273f339",
   "metadata": {},
   "outputs": [
    {
     "name": "stdout",
     "output_type": "stream",
     "text": [
      "[[1 2]\n",
      " [3 4]]\n"
     ]
    }
   ],
   "source": [
    "b = np.array([[1,2],[3,4]])   # Create a rank 2 array\n",
    "print(b)"
   ]
  },
  {
   "cell_type": "code",
   "execution_count": 28,
   "id": "f81268b8",
   "metadata": {},
   "outputs": [
    {
     "name": "stdout",
     "output_type": "stream",
     "text": [
      "(2, 2)\n"
     ]
    }
   ],
   "source": [
    "print(b.shape)"
   ]
  },
  {
   "cell_type": "markdown",
   "id": "88924245",
   "metadata": {},
   "source": [
    "### What about this?\n"
   ]
  },
  {
   "cell_type": "code",
   "execution_count": 25,
   "id": "2fa59929",
   "metadata": {},
   "outputs": [
    {
     "name": "stdout",
     "output_type": "stream",
     "text": [
      "[list([1, 2]) list([3, 4, 5])]\n"
     ]
    },
    {
     "name": "stderr",
     "output_type": "stream",
     "text": [
      "/tmp/ipykernel_6721/3300907555.py:3: VisibleDeprecationWarning: Creating an ndarray from ragged nested sequences (which is a list-or-tuple of lists-or-tuples-or ndarrays with different lengths or shapes) is deprecated. If you meant to do this, you must specify 'dtype=object' when creating the ndarray.\n",
      "  b = np.array([[1,2],[3,4, 5]])\n"
     ]
    }
   ],
   "source": [
    "b = np.array([[1,2],[3,4, 5]])\n",
    "print(b)"
   ]
  },
  {
   "cell_type": "code",
   "execution_count": 49,
   "id": "979b3131",
   "metadata": {},
   "outputs": [
    {
     "name": "stdout",
     "output_type": "stream",
     "text": [
      "[[[1 2]\n",
      "  [3 4]]\n",
      "\n",
      " [[5 6]\n",
      "  [7 8]]]\n"
     ]
    }
   ],
   "source": [
    "b = np.array([\n",
    "    [[1,2],[3,4]],\n",
    "    [[5,6], [7,8]]\n",
    "])  ## adding 1 more block\n",
    "print(b)"
   ]
  },
  {
   "cell_type": "code",
   "execution_count": 50,
   "id": "7167b0a5",
   "metadata": {},
   "outputs": [
    {
     "name": "stdout",
     "output_type": "stream",
     "text": [
      "(2, 2, 2)\n",
      "Number of dimensions (rank): 3\n"
     ]
    }
   ],
   "source": [
    "print(b.shape)\n",
    "print(\"Number of dimensions (rank):\", b.ndim)\n"
   ]
  },
  {
   "cell_type": "code",
   "execution_count": null,
   "id": "9db2c02e",
   "metadata": {},
   "outputs": [],
   "source": []
  },
  {
   "cell_type": "markdown",
   "id": "01e112aa",
   "metadata": {},
   "source": [
    "## Array indexing\n",
    "\n",
    "Numpy offers several ways to index into arrays.\n",
    "\n",
    "We can index and slice numpy arrays in all the ways we can slice Python lists:\n",
    "\n",
    "![](http://jalammar.github.io/images/numpy/numpy-array-slice.png)\n",
    "\n",
    "And you can index and slice numpy arrays in multiple dimensions. If slicing an array with more than one dimension, you should specify a slice for each dimension:\n",
    "\n",
    "![](http://jalammar.github.io/images/numpy/numpy-matrix-indexing.png)"
   ]
  },
  {
   "cell_type": "code",
   "execution_count": 5,
   "id": "fd56fe1b",
   "metadata": {},
   "outputs": [
    {
     "name": "stdout",
     "output_type": "stream",
     "text": [
      "[[2 3]\n",
      " [6 7]]\n"
     ]
    }
   ],
   "source": [
    "# Create the following rank 2 array with shape (3, 4)\n",
    "# [[ 1  2  3  4]\n",
    "#  [ 5  6  7  8]\n",
    "#  [ 9 10 11 12]]\n",
    "a = np.array([[1,2,3,4], [5,6,7,8], [9,10,11,12]])\n",
    "\n",
    "# Use slicing to pull out the subarray consisting of the first 2 rows\n",
    "# and columns 1 and 2; b is the following array of shape (2, 2):\n",
    "# [[2 3]\n",
    "#  [6 7]]\n",
    "b = a[:2, 1:3]\n",
    "print(b)"
   ]
  },
  {
   "cell_type": "code",
   "execution_count": 6,
   "id": "ad0abef1",
   "metadata": {},
   "outputs": [
    {
     "name": "stdout",
     "output_type": "stream",
     "text": [
      "[[ 5  6]\n",
      " [ 9 10]]\n"
     ]
    }
   ],
   "source": [
    "# [[ 5  6]\n",
    "#  [ 9 10]]\n",
    "b = a[1:3, :2]\n",
    "print(b)"
   ]
  },
  {
   "cell_type": "code",
   "execution_count": null,
   "id": "2b764382",
   "metadata": {},
   "outputs": [],
   "source": []
  },
  {
   "cell_type": "code",
   "execution_count": 7,
   "id": "b6ef0b6a",
   "metadata": {},
   "outputs": [
    {
     "name": "stdout",
     "output_type": "stream",
     "text": [
      "[[ 1  2  3  4]\n",
      " [ 5  6  7  8]\n",
      " [ 9 10 11 12]]\n"
     ]
    }
   ],
   "source": [
    "# Create the following rank 2 array with shape (3, 4)\n",
    "a = np.array([[1,2,3,4], [5,6,7,8], [9,10,11,12]])\n",
    "print(a)"
   ]
  },
  {
   "cell_type": "code",
   "execution_count": 53,
   "id": "4050b6d9",
   "metadata": {},
   "outputs": [
    {
     "name": "stdout",
     "output_type": "stream",
     "text": [
      "[5 6 7 8] (4,)\n",
      "[[5 6 7 8]] (1, 4)\n",
      "[[5 6 7 8]] (1, 4)\n"
     ]
    }
   ],
   "source": [
    "row_r1 = a[1, :]    # Rank 1 view of the second row of a\n",
    "row_r2 = a[1:2, :]  # Rank 2 view of the second row of a\n",
    "row_r3 = a[[1], :]  # Rank 2 view of the second row of a\n",
    "print(row_r1, row_r1.shape)\n",
    "print(row_r2, row_r2.shape)\n",
    "print(row_r3, row_r3.shape)"
   ]
  },
  {
   "cell_type": "code",
   "execution_count": null,
   "id": "3645cc25",
   "metadata": {},
   "outputs": [],
   "source": []
  },
  {
   "cell_type": "markdown",
   "id": "b3471dd1",
   "metadata": {},
   "source": [
    "## Initialize the values of the array using different numpy methods\n",
    "\n",
    "There are often cases when we want numpy to initialize the values of the array for us. numpy provides methods like `ones()`, `zeros()`, and `random.random()` for these cases. We just pass them the number of elements we want it to generate:\n",
    "\n",
    "![](http://jalammar.github.io/images/numpy/create-numpy-array-ones-zeros-random.png)"
   ]
  },
  {
   "cell_type": "markdown",
   "id": "7d204f50",
   "metadata": {},
   "source": [
    "We can also use these **methods** to produce **multi-dimensional arrays**, as long as we pass them a tuple describing the dimensions of the matrix we want to create:\n",
    "\n",
    "![](http://jalammar.github.io/images/numpy/numpy-matrix-ones-zeros-random.png)\n",
    "\n",
    "![](http://jalammar.github.io/images/numpy/numpy-3d-array-creation.png)"
   ]
  },
  {
   "cell_type": "code",
   "execution_count": 55,
   "id": "d9b7b853",
   "metadata": {},
   "outputs": [
    {
     "name": "stdout",
     "output_type": "stream",
     "text": [
      "[[0. 0.]\n",
      " [0. 0.]]\n"
     ]
    }
   ],
   "source": [
    "a = np.zeros((2,2))  # Create an array of all zeros\n",
    "print(a)"
   ]
  },
  {
   "cell_type": "code",
   "execution_count": 56,
   "id": "10af0f99",
   "metadata": {},
   "outputs": [
    {
     "name": "stdout",
     "output_type": "stream",
     "text": [
      "[[1. 1.]]\n"
     ]
    }
   ],
   "source": [
    "b = np.ones((1,2))   # Create an array of all ones\n",
    "print(b)"
   ]
  },
  {
   "cell_type": "code",
   "execution_count": 57,
   "id": "51bcb4e8",
   "metadata": {},
   "outputs": [
    {
     "name": "stdout",
     "output_type": "stream",
     "text": [
      "[[7 7]\n",
      " [7 7]]\n"
     ]
    }
   ],
   "source": [
    "c = np.full((2,2), 7) # Create a constant array\n",
    "print(c)"
   ]
  },
  {
   "cell_type": "code",
   "execution_count": 9,
   "id": "b8310906",
   "metadata": {},
   "outputs": [
    {
     "name": "stdout",
     "output_type": "stream",
     "text": [
      "[[1. 0.]\n",
      " [0. 1.]]\n",
      "float64\n"
     ]
    }
   ],
   "source": [
    "d = np.eye(2)        # Create a 2x2 identity matrix\n",
    "print(d)\n",
    "print(d.dtype)"
   ]
  },
  {
   "cell_type": "code",
   "execution_count": 59,
   "id": "ef437c5a",
   "metadata": {},
   "outputs": [
    {
     "name": "stdout",
     "output_type": "stream",
     "text": [
      "[[0.5607279  0.28773219]\n",
      " [0.2657614  0.84505912]]\n"
     ]
    }
   ],
   "source": [
    "e = np.random.random((2,2)) # Create an array filled with random values\n",
    "print(e)"
   ]
  },
  {
   "cell_type": "code",
   "execution_count": null,
   "id": "83f372f4",
   "metadata": {},
   "outputs": [],
   "source": []
  },
  {
   "cell_type": "markdown",
   "id": "fded2f06",
   "metadata": {},
   "source": [
    "### `vstack()` and `hstack()` (`row_stack` and `column_stack`)\n",
    "\n",
    "Sometimes, we may want to construct an array from existing arrays by “stacking” the existing arrays, either vertically or horizontally. We can use `vstack()` (or `row_stack`) and `hstack()` (or `column_stack`), respectively.\n"
   ]
  },
  {
   "cell_type": "code",
   "execution_count": null,
   "id": "9cc63625",
   "metadata": {},
   "outputs": [],
   "source": [
    "a = np.array([1, 2, 3])\n",
    "b = np.array([4, 5, 6])\n",
    "np.vstack((a,b))"
   ]
  },
  {
   "cell_type": "code",
   "execution_count": 62,
   "id": "2962b3e7",
   "metadata": {},
   "outputs": [
    {
     "data": {
      "text/plain": [
       "array([[7, 4],\n",
       "       [8, 5],\n",
       "       [9, 6]])"
      ]
     },
     "execution_count": 62,
     "metadata": {},
     "output_type": "execute_result"
    }
   ],
   "source": [
    "a = np.array([[7], [8], [9]])\n",
    "b = np.array([[4], [5], [6]])\n",
    "np.hstack((a,b))"
   ]
  },
  {
   "cell_type": "code",
   "execution_count": null,
   "id": "ec3b4a7e",
   "metadata": {},
   "outputs": [],
   "source": []
  },
  {
   "cell_type": "markdown",
   "id": "9bf579e6",
   "metadata": {},
   "source": [
    "### Datatypes\n",
    "\n",
    "Every numpy array is a grid of elements of the same type. Numpy provides a large set of numeric datatypes that you can use to construct arrays. Numpy tries to guess a datatype when you create an array, but functions that construct arrays usually also include an optional argument to explicitly specify the datatype. Here is an example:"
   ]
  },
  {
   "cell_type": "code",
   "execution_count": 64,
   "id": "e83aeaa5",
   "metadata": {},
   "outputs": [
    {
     "name": "stdout",
     "output_type": "stream",
     "text": [
      "int64 float64 int64\n"
     ]
    }
   ],
   "source": [
    "x = np.array([1, 2])  # Let numpy choose the datatype\n",
    "y = np.array([1.0, 2.0])  # Let numpy choose the datatype\n",
    "z = np.array([1, 2], dtype=np.int64)  # Force a particular datatype\n",
    "\n",
    "print(x.dtype, y.dtype, z.dtype)"
   ]
  },
  {
   "cell_type": "markdown",
   "id": "dbdb4459",
   "metadata": {},
   "source": [
    "You can read all about numpy datatypes in the [documentation](http://docs.scipy.org/doc/numpy/reference/arrays.dtypes.html)."
   ]
  },
  {
   "cell_type": "markdown",
   "id": "f5b6c651",
   "metadata": {},
   "source": [
    "## Array math"
   ]
  },
  {
   "cell_type": "markdown",
   "id": "3789775d",
   "metadata": {},
   "source": [
    "What makes working with `numpy` so powerful and convenient is that it comes with many *vectorized* math functions for computation over elements of an array. These functions are highly optimized and are *very* fast - much, much faster than using an explicit `for` loop.\n",
    "\n",
    "For example, let’s create a large array of random values and then sum it both ways. We’ll use a `%%time` *cell magic* to time them.\n",
    "\n",
    "**This tells us how powerful and optimized the numpy is**"
   ]
  },
  {
   "cell_type": "code",
   "execution_count": 66,
   "id": "9a29984a",
   "metadata": {},
   "outputs": [],
   "source": [
    "a = np.random.random(100000000)"
   ]
  },
  {
   "cell_type": "code",
   "execution_count": 67,
   "id": "2a7e4b0c",
   "metadata": {},
   "outputs": [
    {
     "name": "stdout",
     "output_type": "stream",
     "text": [
      "CPU times: user 34.4 ms, sys: 292 µs, total: 34.7 ms\n",
      "Wall time: 33.4 ms\n"
     ]
    }
   ],
   "source": [
    "%%time\n",
    "x = np.sum(a)"
   ]
  },
  {
   "cell_type": "code",
   "execution_count": 68,
   "id": "cd3a4138",
   "metadata": {},
   "outputs": [
    {
     "name": "stdout",
     "output_type": "stream",
     "text": [
      "CPU times: user 9.94 s, sys: 0 ns, total: 9.94 s\n",
      "Wall time: 9.94 s\n"
     ]
    }
   ],
   "source": [
    "%%time\n",
    "x = 0\n",
    "for element in a:\n",
    "  x = x + element"
   ]
  },
  {
   "cell_type": "markdown",
   "id": "62c3636d",
   "metadata": {},
   "source": [
    "Look at the “Wall Time” in the output - note how much faster the vectorized version of the operation is! This type of fast computation is a major enabler of machine learning, which requires a *lot* of computation.\n",
    "\n",
    "Whenever possible, we will try to use these vectorized operations."
   ]
  },
  {
   "cell_type": "code",
   "execution_count": 71,
   "id": "e559a584",
   "metadata": {},
   "outputs": [
    {
     "name": "stdout",
     "output_type": "stream",
     "text": [
      "[[ 6.  8.]\n",
      " [10. 12.]]\n",
      "[[ 6.  8.]\n",
      " [10. 12.]]\n"
     ]
    }
   ],
   "source": [
    "# Add\n",
    "\n",
    "x = np.array([[1,2],[3,4]], dtype=np.float64)\n",
    "y = np.array([[5,6],[7,8]], dtype=np.float64)\n",
    "\n",
    "# Elementwise sum; both produce the array\n",
    "print(x + y)\n",
    "print(np.add(x, y))"
   ]
  },
  {
   "cell_type": "code",
   "execution_count": 72,
   "id": "348ef09c",
   "metadata": {},
   "outputs": [
    {
     "name": "stdout",
     "output_type": "stream",
     "text": [
      "[[-4. -4.]\n",
      " [-4. -4.]]\n",
      "[[-4. -4.]\n",
      " [-4. -4.]]\n"
     ]
    }
   ],
   "source": [
    "# Elementwise difference; both produce the array\n",
    "print(x - y)\n",
    "print(np.subtract(x, y))"
   ]
  },
  {
   "cell_type": "code",
   "execution_count": 73,
   "id": "0b5bf118",
   "metadata": {},
   "outputs": [
    {
     "name": "stdout",
     "output_type": "stream",
     "text": [
      "[[ 5. 12.]\n",
      " [21. 32.]]\n",
      "[[ 5. 12.]\n",
      " [21. 32.]]\n"
     ]
    }
   ],
   "source": [
    "# Elementwise product; both produce the array\n",
    "print(x * y)\n",
    "print(np.multiply(x, y))"
   ]
  },
  {
   "cell_type": "code",
   "execution_count": 74,
   "id": "7f6b5518",
   "metadata": {},
   "outputs": [
    {
     "name": "stdout",
     "output_type": "stream",
     "text": [
      "[[0.2        0.33333333]\n",
      " [0.42857143 0.5       ]]\n",
      "[[0.2        0.33333333]\n",
      " [0.42857143 0.5       ]]\n"
     ]
    }
   ],
   "source": [
    "# Elementwise division; both produce the array\n",
    "# [[ 0.2         0.33333333]\n",
    "#  [ 0.42857143  0.5       ]]\n",
    "print(x / y)\n",
    "print(np.divide(x, y))"
   ]
  },
  {
   "cell_type": "code",
   "execution_count": 75,
   "id": "1fb369f2",
   "metadata": {},
   "outputs": [
    {
     "name": "stdout",
     "output_type": "stream",
     "text": [
      "[[1.         1.41421356]\n",
      " [1.73205081 2.        ]]\n"
     ]
    }
   ],
   "source": [
    "# Elementwise square root; produces the array\n",
    "# [[ 1.          1.41421356]\n",
    "#  [ 1.73205081  2.        ]]\n",
    "print(np.sqrt(x))"
   ]
  },
  {
   "cell_type": "markdown",
   "id": "6f700835",
   "metadata": {},
   "source": [
    "![](http://jalammar.github.io/images/numpy/numpy-array-subtract-multiply-divide.png)"
   ]
  },
  {
   "cell_type": "markdown",
   "id": "68e42647",
   "metadata": {},
   "source": [
    "### Dot product"
   ]
  },
  {
   "cell_type": "code",
   "execution_count": 76,
   "id": "d3a21089",
   "metadata": {},
   "outputs": [
    {
     "name": "stdout",
     "output_type": "stream",
     "text": [
      "219\n",
      "219\n"
     ]
    }
   ],
   "source": [
    "x = np.array([[1,2],[3,4]])\n",
    "y = np.array([[5,6],[7,8]])\n",
    "\n",
    "v = np.array([9,10])\n",
    "w = np.array([11, 12])\n",
    "\n",
    "# Inner product of vectors; both produce 219\n",
    "print(v.dot(w))\n",
    "print(np.dot(v, w))"
   ]
  },
  {
   "cell_type": "markdown",
   "id": "4ec6328e",
   "metadata": {},
   "source": [
    "You can also use the `@` operator which is equivalent to numpy's `dot` operator."
   ]
  },
  {
   "cell_type": "code",
   "execution_count": 77,
   "id": "4bd9c8a2",
   "metadata": {},
   "outputs": [
    {
     "name": "stdout",
     "output_type": "stream",
     "text": [
      "[29 67]\n",
      "[29 67]\n",
      "[29 67]\n"
     ]
    }
   ],
   "source": [
    "# Matrix / vector product; both produce the rank 1 array [29 67]\n",
    "print(x.dot(v))\n",
    "print(np.dot(x, v))\n",
    "print(x @ v)"
   ]
  },
  {
   "cell_type": "markdown",
   "id": "c3b2b9ef",
   "metadata": {},
   "source": [
    "# comming up next...\n",
    "\n",
    "### Different other methods\n",
    "### Transpose, Reshape\n",
    "### Broadcast \n",
    "### Random Numbers with Numpy\n",
    "### Linear Algebra with Numpy"
   ]
  },
  {
   "cell_type": "code",
   "execution_count": null,
   "id": "9a23bca4",
   "metadata": {},
   "outputs": [],
   "source": []
  }
 ],
 "metadata": {
  "kernelspec": {
   "display_name": "Python 3 (ipykernel)",
   "language": "python",
   "name": "python3"
  },
  "language_info": {
   "codemirror_mode": {
    "name": "ipython",
    "version": 3
   },
   "file_extension": ".py",
   "mimetype": "text/x-python",
   "name": "python",
   "nbconvert_exporter": "python",
   "pygments_lexer": "ipython3",
   "version": "3.10.16"
  }
 },
 "nbformat": 4,
 "nbformat_minor": 5
}
